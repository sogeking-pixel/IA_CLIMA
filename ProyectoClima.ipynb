{
 "cells": [
  {
   "cell_type": "markdown",
   "id": "29528bf1-ba31-4622-acb6-79a1e52ee1da",
   "metadata": {
    "jp-MarkdownHeadingCollapsed": true
   },
   "source": [
    "# Instalacion de librerias necesarias"
   ]
  },
  {
   "cell_type": "code",
   "execution_count": 37,
   "id": "006f7944-38d3-458a-ae77-e8770b9c331a",
   "metadata": {},
   "outputs": [
    {
     "name": "stdout",
     "output_type": "stream",
     "text": [
      "Requirement already satisfied: tensorflow in c:\\users\\yerso\\appdata\\local\\programs\\python\\python312\\lib\\site-packages (2.17.0)\n",
      "Requirement already satisfied: tensorflow-intel==2.17.0 in c:\\users\\yerso\\appdata\\local\\programs\\python\\python312\\lib\\site-packages (from tensorflow) (2.17.0)\n",
      "Requirement already satisfied: absl-py>=1.0.0 in c:\\users\\yerso\\appdata\\local\\programs\\python\\python312\\lib\\site-packages (from tensorflow-intel==2.17.0->tensorflow) (2.1.0)\n",
      "Requirement already satisfied: astunparse>=1.6.0 in c:\\users\\yerso\\appdata\\local\\programs\\python\\python312\\lib\\site-packages (from tensorflow-intel==2.17.0->tensorflow) (1.6.3)\n",
      "Requirement already satisfied: flatbuffers>=24.3.25 in c:\\users\\yerso\\appdata\\local\\programs\\python\\python312\\lib\\site-packages (from tensorflow-intel==2.17.0->tensorflow) (24.3.25)\n",
      "Requirement already satisfied: gast!=0.5.0,!=0.5.1,!=0.5.2,>=0.2.1 in c:\\users\\yerso\\appdata\\local\\programs\\python\\python312\\lib\\site-packages (from tensorflow-intel==2.17.0->tensorflow) (0.6.0)\n",
      "Requirement already satisfied: google-pasta>=0.1.1 in c:\\users\\yerso\\appdata\\local\\programs\\python\\python312\\lib\\site-packages (from tensorflow-intel==2.17.0->tensorflow) (0.2.0)\n",
      "Requirement already satisfied: h5py>=3.10.0 in c:\\users\\yerso\\appdata\\local\\programs\\python\\python312\\lib\\site-packages (from tensorflow-intel==2.17.0->tensorflow) (3.12.1)\n",
      "Requirement already satisfied: libclang>=13.0.0 in c:\\users\\yerso\\appdata\\local\\programs\\python\\python312\\lib\\site-packages (from tensorflow-intel==2.17.0->tensorflow) (18.1.1)\n",
      "Requirement already satisfied: ml-dtypes<0.5.0,>=0.3.1 in c:\\users\\yerso\\appdata\\local\\programs\\python\\python312\\lib\\site-packages (from tensorflow-intel==2.17.0->tensorflow) (0.4.1)\n",
      "Requirement already satisfied: opt-einsum>=2.3.2 in c:\\users\\yerso\\appdata\\local\\programs\\python\\python312\\lib\\site-packages (from tensorflow-intel==2.17.0->tensorflow) (3.4.0)\n",
      "Requirement already satisfied: packaging in c:\\users\\yerso\\appdata\\local\\programs\\python\\python312\\lib\\site-packages (from tensorflow-intel==2.17.0->tensorflow) (24.1)\n",
      "Requirement already satisfied: protobuf!=4.21.0,!=4.21.1,!=4.21.2,!=4.21.3,!=4.21.4,!=4.21.5,<5.0.0dev,>=3.20.3 in c:\\users\\yerso\\appdata\\local\\programs\\python\\python312\\lib\\site-packages (from tensorflow-intel==2.17.0->tensorflow) (4.25.5)\n",
      "Requirement already satisfied: requests<3,>=2.21.0 in c:\\users\\yerso\\appdata\\local\\programs\\python\\python312\\lib\\site-packages (from tensorflow-intel==2.17.0->tensorflow) (2.32.3)\n",
      "Requirement already satisfied: setuptools in c:\\users\\yerso\\appdata\\local\\programs\\python\\python312\\lib\\site-packages (from tensorflow-intel==2.17.0->tensorflow) (75.1.0)\n",
      "Requirement already satisfied: six>=1.12.0 in c:\\users\\yerso\\appdata\\local\\programs\\python\\python312\\lib\\site-packages (from tensorflow-intel==2.17.0->tensorflow) (1.16.0)\n",
      "Requirement already satisfied: termcolor>=1.1.0 in c:\\users\\yerso\\appdata\\local\\programs\\python\\python312\\lib\\site-packages (from tensorflow-intel==2.17.0->tensorflow) (2.5.0)\n",
      "Requirement already satisfied: typing-extensions>=3.6.6 in c:\\users\\yerso\\appdata\\local\\programs\\python\\python312\\lib\\site-packages (from tensorflow-intel==2.17.0->tensorflow) (4.12.2)\n",
      "Requirement already satisfied: wrapt>=1.11.0 in c:\\users\\yerso\\appdata\\local\\programs\\python\\python312\\lib\\site-packages (from tensorflow-intel==2.17.0->tensorflow) (1.16.0)\n",
      "Requirement already satisfied: grpcio<2.0,>=1.24.3 in c:\\users\\yerso\\appdata\\local\\programs\\python\\python312\\lib\\site-packages (from tensorflow-intel==2.17.0->tensorflow) (1.66.2)\n",
      "Requirement already satisfied: tensorboard<2.18,>=2.17 in c:\\users\\yerso\\appdata\\local\\programs\\python\\python312\\lib\\site-packages (from tensorflow-intel==2.17.0->tensorflow) (2.17.1)\n",
      "Requirement already satisfied: keras>=3.2.0 in c:\\users\\yerso\\appdata\\local\\programs\\python\\python312\\lib\\site-packages (from tensorflow-intel==2.17.0->tensorflow) (3.6.0)\n",
      "Requirement already satisfied: numpy<2.0.0,>=1.26.0 in c:\\users\\yerso\\appdata\\local\\programs\\python\\python312\\lib\\site-packages (from tensorflow-intel==2.17.0->tensorflow) (1.26.4)\n",
      "Requirement already satisfied: wheel<1.0,>=0.23.0 in c:\\users\\yerso\\appdata\\local\\programs\\python\\python312\\lib\\site-packages (from astunparse>=1.6.0->tensorflow-intel==2.17.0->tensorflow) (0.44.0)\n",
      "Requirement already satisfied: rich in c:\\users\\yerso\\appdata\\local\\programs\\python\\python312\\lib\\site-packages (from keras>=3.2.0->tensorflow-intel==2.17.0->tensorflow) (13.9.2)\n",
      "Requirement already satisfied: namex in c:\\users\\yerso\\appdata\\local\\programs\\python\\python312\\lib\\site-packages (from keras>=3.2.0->tensorflow-intel==2.17.0->tensorflow) (0.0.8)\n",
      "Requirement already satisfied: optree in c:\\users\\yerso\\appdata\\local\\programs\\python\\python312\\lib\\site-packages (from keras>=3.2.0->tensorflow-intel==2.17.0->tensorflow) (0.13.0)\n",
      "Requirement already satisfied: charset-normalizer<4,>=2 in c:\\users\\yerso\\appdata\\local\\programs\\python\\python312\\lib\\site-packages (from requests<3,>=2.21.0->tensorflow-intel==2.17.0->tensorflow) (3.4.0)\n",
      "Requirement already satisfied: idna<4,>=2.5 in c:\\users\\yerso\\appdata\\local\\programs\\python\\python312\\lib\\site-packages (from requests<3,>=2.21.0->tensorflow-intel==2.17.0->tensorflow) (3.10)\n",
      "Requirement already satisfied: urllib3<3,>=1.21.1 in c:\\users\\yerso\\appdata\\local\\programs\\python\\python312\\lib\\site-packages (from requests<3,>=2.21.0->tensorflow-intel==2.17.0->tensorflow) (2.2.3)\n",
      "Requirement already satisfied: certifi>=2017.4.17 in c:\\users\\yerso\\appdata\\local\\programs\\python\\python312\\lib\\site-packages (from requests<3,>=2.21.0->tensorflow-intel==2.17.0->tensorflow) (2024.8.30)\n",
      "Requirement already satisfied: markdown>=2.6.8 in c:\\users\\yerso\\appdata\\local\\programs\\python\\python312\\lib\\site-packages (from tensorboard<2.18,>=2.17->tensorflow-intel==2.17.0->tensorflow) (3.7)\n",
      "Requirement already satisfied: tensorboard-data-server<0.8.0,>=0.7.0 in c:\\users\\yerso\\appdata\\local\\programs\\python\\python312\\lib\\site-packages (from tensorboard<2.18,>=2.17->tensorflow-intel==2.17.0->tensorflow) (0.7.2)\n",
      "Requirement already satisfied: werkzeug>=1.0.1 in c:\\users\\yerso\\appdata\\local\\programs\\python\\python312\\lib\\site-packages (from tensorboard<2.18,>=2.17->tensorflow-intel==2.17.0->tensorflow) (3.0.3)\n",
      "Requirement already satisfied: MarkupSafe>=2.1.1 in c:\\users\\yerso\\appdata\\local\\programs\\python\\python312\\lib\\site-packages (from werkzeug>=1.0.1->tensorboard<2.18,>=2.17->tensorflow-intel==2.17.0->tensorflow) (2.1.5)\n",
      "Requirement already satisfied: markdown-it-py>=2.2.0 in c:\\users\\yerso\\appdata\\local\\programs\\python\\python312\\lib\\site-packages (from rich->keras>=3.2.0->tensorflow-intel==2.17.0->tensorflow) (3.0.0)\n",
      "Requirement already satisfied: pygments<3.0.0,>=2.13.0 in c:\\users\\yerso\\appdata\\local\\programs\\python\\python312\\lib\\site-packages (from rich->keras>=3.2.0->tensorflow-intel==2.17.0->tensorflow) (2.18.0)\n",
      "Requirement already satisfied: mdurl~=0.1 in c:\\users\\yerso\\appdata\\local\\programs\\python\\python312\\lib\\site-packages (from markdown-it-py>=2.2.0->rich->keras>=3.2.0->tensorflow-intel==2.17.0->tensorflow) (0.1.2)\n"
     ]
    },
    {
     "name": "stderr",
     "output_type": "stream",
     "text": [
      "\n",
      "[notice] A new release of pip is available: 24.2 -> 24.3.1\n",
      "[notice] To update, run: python.exe -m pip install --upgrade pip\n"
     ]
    },
    {
     "name": "stdout",
     "output_type": "stream",
     "text": [
      "Requirement already satisfied: matplotlib in c:\\users\\yerso\\appdata\\local\\programs\\python\\python312\\lib\\site-packages (3.9.2)\n",
      "Requirement already satisfied: contourpy>=1.0.1 in c:\\users\\yerso\\appdata\\local\\programs\\python\\python312\\lib\\site-packages (from matplotlib) (1.3.0)\n",
      "Requirement already satisfied: cycler>=0.10 in c:\\users\\yerso\\appdata\\local\\programs\\python\\python312\\lib\\site-packages (from matplotlib) (0.12.1)\n",
      "Requirement already satisfied: fonttools>=4.22.0 in c:\\users\\yerso\\appdata\\local\\programs\\python\\python312\\lib\\site-packages (from matplotlib) (4.53.1)\n",
      "Requirement already satisfied: kiwisolver>=1.3.1 in c:\\users\\yerso\\appdata\\local\\programs\\python\\python312\\lib\\site-packages (from matplotlib) (1.4.7)\n",
      "Requirement already satisfied: numpy>=1.23 in c:\\users\\yerso\\appdata\\local\\programs\\python\\python312\\lib\\site-packages (from matplotlib) (1.26.4)\n",
      "Requirement already satisfied: packaging>=20.0 in c:\\users\\yerso\\appdata\\local\\programs\\python\\python312\\lib\\site-packages (from matplotlib) (24.1)\n",
      "Requirement already satisfied: pillow>=8 in c:\\users\\yerso\\appdata\\local\\programs\\python\\python312\\lib\\site-packages (from matplotlib) (10.4.0)\n",
      "Requirement already satisfied: pyparsing>=2.3.1 in c:\\users\\yerso\\appdata\\local\\programs\\python\\python312\\lib\\site-packages (from matplotlib) (3.2.0)\n",
      "Requirement already satisfied: python-dateutil>=2.7 in c:\\users\\yerso\\appdata\\local\\programs\\python\\python312\\lib\\site-packages (from matplotlib) (2.9.0.post0)\n",
      "Requirement already satisfied: six>=1.5 in c:\\users\\yerso\\appdata\\local\\programs\\python\\python312\\lib\\site-packages (from python-dateutil>=2.7->matplotlib) (1.16.0)\n"
     ]
    },
    {
     "name": "stderr",
     "output_type": "stream",
     "text": [
      "\n",
      "[notice] A new release of pip is available: 24.2 -> 24.3.1\n",
      "[notice] To update, run: python.exe -m pip install --upgrade pip\n"
     ]
    }
   ],
   "source": [
    "!pip install tensorflow\n",
    "!pip install matplotlib"
   ]
  },
  {
   "cell_type": "markdown",
   "id": "cc1358ae-d426-4d62-9d31-497a2529efe1",
   "metadata": {},
   "source": [
    "# Obtencion y visualizacion de datos"
   ]
  },
  {
   "cell_type": "markdown",
   "id": "9c1c8f80-dba0-4cbb-bd2d-d5eef7b8260a",
   "metadata": {},
   "source": [
    "Se utilizara para la predicion, el indice Nino 1+2\n",
    "![Título de la imagen](https://bobtisdale.wordpress.com/wp-content/uploads/2015/11/figure-1.png)\n"
   ]
  },
  {
   "cell_type": "markdown",
   "id": "46717191-57cd-42ec-9e2b-6efbd9a8261e",
   "metadata": {},
   "source": [
    "## Obtencion de datos del indice Nino 1+2 EXCEL"
   ]
  },
  {
   "cell_type": "markdown",
   "id": "74918181-4a05-42e2-967e-ffcc4b6ff80d",
   "metadata": {},
   "source": [
    "Lectura del archivo excel que tiene los indice **iNCE**"
   ]
  },
  {
   "cell_type": "code",
   "execution_count": 1,
   "id": "55594ef5-6644-4a26-a498-fbe913bd6fb4",
   "metadata": {},
   "outputs": [
    {
     "name": "stdout",
     "output_type": "stream",
     "text": [
      "         fecha   Anomalia  Unnamed: 2   Unnamed: 3   Unnamed: 4   Unnamed: 5  \\\n",
      "0   1958-01-01       0.14           n   800.000000          NaN          1.0   \n",
      "1   1958-02-01       0.26         max     4.470000          NaN          2.0   \n",
      "2   1958-03-01       0.48         min    -2.670000          NaN          3.0   \n",
      "3   1958-04-01       0.71       rango     7.140000          NaN          4.0   \n",
      "4   1958-05-01       0.12           k    10.580197         11.0          5.0   \n",
      "..         ...        ...         ...          ...          ...          ...   \n",
      "795 2024-04-01      -0.21         NaN          NaN          NaN          NaN   \n",
      "796 2024-05-01      -1.17         NaN          NaN          NaN          NaN   \n",
      "797 2024-06-01      -0.95         NaN          NaN          NaN          NaN   \n",
      "798 2024-07-01      -0.79         NaN          NaN          NaN          NaN   \n",
      "799 2024-08-01      -0.46         NaN          NaN          NaN          NaN   \n",
      "\n",
      "        -2.67   Unnamed: 7   Unnamed: 8  \n",
      "0   -2.345455          NaN         -1.4  \n",
      "1   -1.696364          NaN         -1.2  \n",
      "2   -1.047273          NaN         -1.0  \n",
      "3   -0.398182          NaN          0.4  \n",
      "4    0.250909          NaN          1.0  \n",
      "..        ...          ...          ...  \n",
      "795       NaN          NaN          NaN  \n",
      "796       NaN          NaN          NaN  \n",
      "797       NaN          NaN          NaN  \n",
      "798       NaN          NaN          NaN  \n",
      "799       NaN          NaN          NaN  \n",
      "\n",
      "[800 rows x 9 columns]\n"
     ]
    }
   ],
   "source": [
    "import pandas as pd\n",
    "import numpy as np\n",
    "\n",
    "path_excel = 'C:/Users/yerso/OneDrive/Escritorio/archivo/Clasificacion indice ICEN.xlsx'\n",
    "\n",
    "df = pd.read_excel(path_excel, sheet_name='Niño 1+2 (Anomaly)')\n",
    "\n",
    "print(df)"
   ]
  },
  {
   "cell_type": "code",
   "execution_count": 2,
   "id": "f93d69fd-d86a-4bcd-892c-fdf483011829",
   "metadata": {},
   "outputs": [
    {
     "name": "stdout",
     "output_type": "stream",
     "text": [
      "0   1958-01-01\n",
      "1   1958-02-01\n",
      "2   1958-03-01\n",
      "3   1958-04-01\n",
      "4   1958-05-01\n",
      "Name: fecha, dtype: datetime64[ns]\n",
      "\n",
      " ==================================================================================================== \n",
      "\n",
      "0   1958-01-01\n",
      "1   1958-02-01\n",
      "2   1958-03-01\n",
      "3   1958-04-01\n",
      "4   1958-05-01\n",
      "Name: fecha, dtype: datetime64[ns]\n"
     ]
    }
   ],
   "source": [
    "print(df['fecha'][:5])\n",
    "\n",
    "df['fecha'] = pd.to_datetime(df['fecha'], format='%d/%m/%Y')\n",
    "\n",
    "print(\"\\n\",\"=\"*100,\"\\n\")\n",
    "print(df['fecha'][:5])\n"
   ]
  },
  {
   "cell_type": "code",
   "execution_count": 3,
   "id": "df1aa0f1-7fce-4b8b-ac38-2539b348555b",
   "metadata": {},
   "outputs": [
    {
     "name": "stdout",
     "output_type": "stream",
     "text": [
      "(708,) (92,)\n"
     ]
    }
   ],
   "source": [
    "df = df[['fecha', 'Anomalia']]\n",
    "\n",
    "y_train = df[df['fecha'] <= '2016-12-31']\n",
    "y_validation = df[df['fecha'] >= '2017-01-01']\n",
    "\n",
    "y_train = y_train['Anomalia'].to_numpy()\n",
    "y_validation  = y_validation['Anomalia'].to_numpy()\n",
    "\n",
    "print(y_train.shape, y_validation.shape)"
   ]
  },
  {
   "cell_type": "markdown",
   "id": "42c55edd-4197-4019-95c8-53006fffc2df",
   "metadata": {},
   "source": [
    "## Obtener los datos para de entrenamiento"
   ]
  },
  {
   "cell_type": "code",
   "execution_count": 4,
   "id": "e8256a5f-096c-4df0-864e-69d093af2d3c",
   "metadata": {},
   "outputs": [
    {
     "name": "stdout",
     "output_type": "stream",
     "text": [
      "(708, 100, 120) (708,)\n",
      "(92, 100, 120) (92,)\n",
      "-1.9397346 -2.67\n",
      "36.437675 4.47\n"
     ]
    }
   ],
   "source": [
    "import numpy as np\n",
    "import os\n",
    "\n",
    "path = 'OneDrive/Escritorio'\n",
    "sst_train = np.load(path + \"/archivo/Entrenamiento_sin_nan.npy\")\n",
    "sst_valid =  np.load(path + \"/archivo/Validacion_sin_nan.npy\")\n",
    "\n",
    "nino_train = y_train\n",
    "nino_valid = y_validation\n",
    "\n",
    "print(sst_train.shape, nino_train.shape)\n",
    "print(sst_valid.shape, nino_valid.shape)\n",
    "print(sst_train.min(), nino_train.min())\n",
    "print(sst_train.max(), nino_train.max())\n"
   ]
  },
  {
   "cell_type": "markdown",
   "id": "0d77831b-e24a-4cda-83a1-cf7d92a241c7",
   "metadata": {},
   "source": [
    "## Funcion de concatenacion de dato y Agrupacion"
   ]
  },
  {
   "cell_type": "markdown",
   "id": "9acb8501-5782-4610-9e05-ba7b0ef070df",
   "metadata": {},
   "source": [
    "**Parámetros:**\n",
    "* **path:** Dirección donde se encuentra la carpeta de los archivo\n",
    "* **long_data:** Cantidad de datos que se va a analizar\n",
    " \n",
    "**Return:**\n",
    "  *  Dato ya concatenado, de acuero a **long_data**"
   ]
  },
  {
   "cell_type": "code",
   "execution_count": 5,
   "id": "ae64f4f4-0777-4e4a-b8f3-5ef4898db340",
   "metadata": {},
   "outputs": [],
   "source": [
    "\n",
    "def cargar_data( sst, nino1_2, long_data=3, long_pred=12):\n",
    "    \n",
    "    sst_data, nino1_2_data = [], []\n",
    "\n",
    "    data_aux_1, data_aux_2  = [], []\n",
    "\n",
    "    # agrupa 3 capas en la variable data_aux_1\n",
    "    for i in range(long_data):\n",
    "        # calcular el index ultimo, tomando encuenta log data, y log predict\n",
    "        j = i-(long_data + long_pred - 1)\n",
    "\n",
    "        sst_data = sst[i:j][:, :, :, np.newaxis]\n",
    "        \n",
    "        data_aux_1.append(sst_data)  \n",
    "        \n",
    "    for i in range(long_pred):\n",
    "        #calcula el index, con la cantida que se va a predecir xd\n",
    "        index_end = i - (long_pred -1)\n",
    "        j = index_end if index_end != 0 else None\n",
    "        nino1_2_data = nino1_2[i+long_data:j][:, np.newaxis]\n",
    "        data_aux_2.append(nino1_2_data)\n",
    "        \n",
    "    sst_data = np.concatenate(data_aux_1, axis=3)\n",
    "    nino1_2_data = np.concatenate(data_aux_2, axis=1)\n",
    "    \n",
    "    return sst_data, nino1_2_data"
   ]
  },
  {
   "cell_type": "code",
   "execution_count": 6,
   "id": "98631979-739e-406c-aade-0d6004c376a4",
   "metadata": {},
   "outputs": [
    {
     "name": "stdout",
     "output_type": "stream",
     "text": [
      "(694, 100, 120, 3) (694, 12)\n",
      "(78, 100, 120, 3) (78, 12)\n"
     ]
    }
   ],
   "source": [
    "sst_train, nino_train = cargar_data(sst_train, nino_train)\n",
    "sst_valid, nino_valid = cargar_data(sst_valid, nino_valid)\n",
    "\n",
    "print(sst_train.shape, nino_train.shape)\n",
    "print(sst_valid.shape, nino_valid.shape)"
   ]
  },
  {
   "cell_type": "markdown",
   "id": "6bf24df3-01f4-45c6-870f-ecc03f244e80",
   "metadata": {},
   "source": [
    "## Normalizar datos"
   ]
  },
  {
   "cell_type": "markdown",
   "id": "7a98fcac-f194-455e-97fa-558abaae9de2",
   "metadata": {},
   "source": [
    "Preparar los datos, sacando el promedio y la desviacion estandar\n",
    "Z-core"
   ]
  },
  {
   "cell_type": "code",
   "execution_count": 7,
   "id": "51f632b1-d205-4f7c-8bf5-1336fd1a80c7",
   "metadata": {},
   "outputs": [
    {
     "name": "stdout",
     "output_type": "stream",
     "text": [
      "promedio:  12.754112 -0.21850024015369834\n",
      "desviacion estandar:  11.1031685 1.0916539311867322\n"
     ]
    }
   ],
   "source": [
    "sst_mean = sst_train.mean()\n",
    "nino_mean = nino_train.mean()\n",
    "\n",
    "sst_std = sst_train.std()\n",
    "nino_std = nino_train.std()\n",
    "\n",
    "print(\"promedio: \", sst_mean, nino_mean)\n",
    "print(\"desviacion estandar: \", sst_std, nino_std)"
   ]
  },
  {
   "cell_type": "markdown",
   "id": "8cb7c09c-2a31-4a00-bc7a-8a1c8413734b",
   "metadata": {},
   "source": [
    "**Normalizar los datos de entrenamiento**"
   ]
  },
  {
   "cell_type": "code",
   "execution_count": 8,
   "id": "7f2b46bc-4b27-4a5f-9408-9b8a2270016d",
   "metadata": {},
   "outputs": [
    {
     "name": "stdout",
     "output_type": "stream",
     "text": [
      "(694, 100, 120, 3) (694, 12)\n",
      "-1.3233922 -2.2456748332150345\n",
      "2.1330454 4.2948594845042605\n"
     ]
    }
   ],
   "source": [
    "# Normalizar los datos (centrar y escalar)\n",
    "sst_data_normalized = (sst_train - sst_mean) / sst_std\n",
    "nino_data_normalized = (nino_train - nino_mean) / nino_std\n",
    "\n",
    "sst_train, nino_train = sst_data_normalized, nino_data_normalized\n",
    "\n",
    "print(sst_train.shape, nino_train.shape)\n",
    "\n",
    "print(sst_train.min(), nino_train.min())\n",
    "print(sst_train.max(), nino_train.max())"
   ]
  },
  {
   "cell_type": "code",
   "execution_count": 9,
   "id": "a98afc36-ede8-406f-a92b-34f975404bf4",
   "metadata": {},
   "outputs": [
    {
     "name": "stdout",
     "output_type": "stream",
     "text": [
      "(78, 100, 120, 3) (78, 12)\n"
     ]
    }
   ],
   "source": [
    "# Normalizar los datos (centrar y escalar)\n",
    "sst_data_normalized = (sst_valid - sst_mean) / sst_std\n",
    "nino_data_normalized = (nino_valid - nino_mean) / nino_std\n",
    "\n",
    "sst_valid, nino_valid = sst_data_normalized, nino_data_normalized\n",
    "\n",
    "print(sst_valid.shape, nino_valid.shape)"
   ]
  },
  {
   "cell_type": "markdown",
   "id": "f1f706c4-3ff3-4ca5-94d6-08c537d3aedf",
   "metadata": {},
   "source": [
    "# Creacion del Modelo"
   ]
  },
  {
   "cell_type": "markdown",
   "id": "50b3bc25-a70c-48e4-ac6d-23c119cc40ee",
   "metadata": {},
   "source": [
    "Las **CNN** son modelos ampliamentes utilizados para identificar patrones en datos estructurados, como imagenes y matrices, lo cual es fundamental para realizar predicciones en cierto problemas. La capacidad predictiva de las **CNN** se bas en sus capass convolucionales, donde cada capa utiliza filtros para detectar caracteristicas locales.  En problemas predictivos, como en la predicción de fenómenos climáticos, las CNN aprenden de datos históricos etiquetados y ajustan sus parámetros mediante un proceso supervisado, de modo que identifican las características espaciales y temporales que predicen mejor el comportamiento futuro. \n",
    "\n",
    "Para predecir El Niño 1+2, se utilizarán redes neuronales convolucionales **(CNN)** que procesarán matrices de datos con tres canales: los meses anteriores (n-0, n-1, n-2). Estos canales representan las temperaturas del océano **SST**."
   ]
  },
  {
   "cell_type": "markdown",
   "id": "cd288482-5cb2-4c7f-9d35-41979f2e6c81",
   "metadata": {},
   "source": [
    "![Diferencia](C:/Users/yerso/OneDrive/Escritorio/canales.png)"
   ]
  },
  {
   "cell_type": "markdown",
   "id": "20eef736-1bfe-41b8-a8bc-c2189d5c04ed",
   "metadata": {},
   "source": [
    "## ARQUITECTURA DEL MODELO CNN"
   ]
  },
  {
   "cell_type": "markdown",
   "id": "54f671c4-2963-4465-b3b3-ee764df05d6a",
   "metadata": {},
   "source": [
    "![Diferencia](C:/Users/yerso/OneDrive/Escritorio/ArquitecturaModelo.png)"
   ]
  },
  {
   "cell_type": "code",
   "execution_count": 11,
   "id": "277830ba-af04-4853-b379-121ad7b1e67f",
   "metadata": {},
   "outputs": [],
   "source": [
    "from tensorflow.keras.models import Sequential\n",
    "from tensorflow.keras.layers import Conv2D, MaxPooling2D, Flatten, Dense, Dropout, PReLU, LeakyReLU, ELU\n",
    "from tensorflow.keras.optimizers import SGD\n",
    "from sklearn.utils import shuffle"
   ]
  },
  {
   "cell_type": "code",
   "execution_count": 19,
   "id": "50371e9e-0d4e-426f-abd7-286d949131d3",
   "metadata": {
    "scrolled": true
   },
   "outputs": [
    {
     "name": "stderr",
     "output_type": "stream",
     "text": [
      "C:\\Users\\yerso\\AppData\\Local\\Programs\\Python\\Python312\\Lib\\site-packages\\keras\\src\\layers\\convolutional\\base_conv.py:107: UserWarning: Do not pass an `input_shape`/`input_dim` argument to a layer. When using Sequential models, prefer using an `Input(shape)` object as the first layer in the model instead.\n",
      "  super().__init__(activity_regularizer=activity_regularizer, **kwargs)\n"
     ]
    },
    {
     "data": {
      "text/html": [
       "<pre style=\"white-space:pre;overflow-x:auto;line-height:normal;font-family:Menlo,'DejaVu Sans Mono',consolas,'Courier New',monospace\"><span style=\"font-weight: bold\">Model: \"sequential_1\"</span>\n",
       "</pre>\n"
      ],
      "text/plain": [
       "\u001b[1mModel: \"sequential_1\"\u001b[0m\n"
      ]
     },
     "metadata": {},
     "output_type": "display_data"
    },
    {
     "data": {
      "text/html": [
       "<pre style=\"white-space:pre;overflow-x:auto;line-height:normal;font-family:Menlo,'DejaVu Sans Mono',consolas,'Courier New',monospace\">┏━━━━━━━━━━━━━━━━━━━━━━━━━━━━━━━━━━━━━━┳━━━━━━━━━━━━━━━━━━━━━━━━━━━━━┳━━━━━━━━━━━━━━━━━┓\n",
       "┃<span style=\"font-weight: bold\"> Layer (type)                         </span>┃<span style=\"font-weight: bold\"> Output Shape                </span>┃<span style=\"font-weight: bold\">         Param # </span>┃\n",
       "┡━━━━━━━━━━━━━━━━━━━━━━━━━━━━━━━━━━━━━━╇━━━━━━━━━━━━━━━━━━━━━━━━━━━━━╇━━━━━━━━━━━━━━━━━┩\n",
       "│ conv2d_3 (<span style=\"color: #0087ff; text-decoration-color: #0087ff\">Conv2D</span>)                    │ (<span style=\"color: #00d7ff; text-decoration-color: #00d7ff\">None</span>, <span style=\"color: #00af00; text-decoration-color: #00af00\">100</span>, <span style=\"color: #00af00; text-decoration-color: #00af00\">120</span>, <span style=\"color: #00af00; text-decoration-color: #00af00\">32</span>)        │           <span style=\"color: #00af00; text-decoration-color: #00af00\">2,912</span> │\n",
       "├──────────────────────────────────────┼─────────────────────────────┼─────────────────┤\n",
       "│ max_pooling2d_3 (<span style=\"color: #0087ff; text-decoration-color: #0087ff\">MaxPooling2D</span>)       │ (<span style=\"color: #00d7ff; text-decoration-color: #00d7ff\">None</span>, <span style=\"color: #00af00; text-decoration-color: #00af00\">50</span>, <span style=\"color: #00af00; text-decoration-color: #00af00\">60</span>, <span style=\"color: #00af00; text-decoration-color: #00af00\">32</span>)          │               <span style=\"color: #00af00; text-decoration-color: #00af00\">0</span> │\n",
       "├──────────────────────────────────────┼─────────────────────────────┼─────────────────┤\n",
       "│ conv2d_4 (<span style=\"color: #0087ff; text-decoration-color: #0087ff\">Conv2D</span>)                    │ (<span style=\"color: #00d7ff; text-decoration-color: #00d7ff\">None</span>, <span style=\"color: #00af00; text-decoration-color: #00af00\">50</span>, <span style=\"color: #00af00; text-decoration-color: #00af00\">60</span>, <span style=\"color: #00af00; text-decoration-color: #00af00\">32</span>)          │          <span style=\"color: #00af00; text-decoration-color: #00af00\">30,752</span> │\n",
       "├──────────────────────────────────────┼─────────────────────────────┼─────────────────┤\n",
       "│ max_pooling2d_4 (<span style=\"color: #0087ff; text-decoration-color: #0087ff\">MaxPooling2D</span>)       │ (<span style=\"color: #00d7ff; text-decoration-color: #00d7ff\">None</span>, <span style=\"color: #00af00; text-decoration-color: #00af00\">25</span>, <span style=\"color: #00af00; text-decoration-color: #00af00\">30</span>, <span style=\"color: #00af00; text-decoration-color: #00af00\">32</span>)          │               <span style=\"color: #00af00; text-decoration-color: #00af00\">0</span> │\n",
       "├──────────────────────────────────────┼─────────────────────────────┼─────────────────┤\n",
       "│ conv2d_5 (<span style=\"color: #0087ff; text-decoration-color: #0087ff\">Conv2D</span>)                    │ (<span style=\"color: #00d7ff; text-decoration-color: #00d7ff\">None</span>, <span style=\"color: #00af00; text-decoration-color: #00af00\">25</span>, <span style=\"color: #00af00; text-decoration-color: #00af00\">30</span>, <span style=\"color: #00af00; text-decoration-color: #00af00\">32</span>)          │          <span style=\"color: #00af00; text-decoration-color: #00af00\">30,752</span> │\n",
       "├──────────────────────────────────────┼─────────────────────────────┼─────────────────┤\n",
       "│ max_pooling2d_5 (<span style=\"color: #0087ff; text-decoration-color: #0087ff\">MaxPooling2D</span>)       │ (<span style=\"color: #00d7ff; text-decoration-color: #00d7ff\">None</span>, <span style=\"color: #00af00; text-decoration-color: #00af00\">12</span>, <span style=\"color: #00af00; text-decoration-color: #00af00\">15</span>, <span style=\"color: #00af00; text-decoration-color: #00af00\">32</span>)          │               <span style=\"color: #00af00; text-decoration-color: #00af00\">0</span> │\n",
       "├──────────────────────────────────────┼─────────────────────────────┼─────────────────┤\n",
       "│ flatten_1 (<span style=\"color: #0087ff; text-decoration-color: #0087ff\">Flatten</span>)                  │ (<span style=\"color: #00d7ff; text-decoration-color: #00d7ff\">None</span>, <span style=\"color: #00af00; text-decoration-color: #00af00\">5760</span>)                │               <span style=\"color: #00af00; text-decoration-color: #00af00\">0</span> │\n",
       "├──────────────────────────────────────┼─────────────────────────────┼─────────────────┤\n",
       "│ dense_3 (<span style=\"color: #0087ff; text-decoration-color: #0087ff\">Dense</span>)                      │ (<span style=\"color: #00d7ff; text-decoration-color: #00d7ff\">None</span>, <span style=\"color: #00af00; text-decoration-color: #00af00\">60</span>)                  │         <span style=\"color: #00af00; text-decoration-color: #00af00\">345,660</span> │\n",
       "├──────────────────────────────────────┼─────────────────────────────┼─────────────────┤\n",
       "│ dropout_2 (<span style=\"color: #0087ff; text-decoration-color: #0087ff\">Dropout</span>)                  │ (<span style=\"color: #00d7ff; text-decoration-color: #00d7ff\">None</span>, <span style=\"color: #00af00; text-decoration-color: #00af00\">60</span>)                  │               <span style=\"color: #00af00; text-decoration-color: #00af00\">0</span> │\n",
       "├──────────────────────────────────────┼─────────────────────────────┼─────────────────┤\n",
       "│ dense_4 (<span style=\"color: #0087ff; text-decoration-color: #0087ff\">Dense</span>)                      │ (<span style=\"color: #00d7ff; text-decoration-color: #00d7ff\">None</span>, <span style=\"color: #00af00; text-decoration-color: #00af00\">60</span>)                  │           <span style=\"color: #00af00; text-decoration-color: #00af00\">3,660</span> │\n",
       "├──────────────────────────────────────┼─────────────────────────────┼─────────────────┤\n",
       "│ dropout_3 (<span style=\"color: #0087ff; text-decoration-color: #0087ff\">Dropout</span>)                  │ (<span style=\"color: #00d7ff; text-decoration-color: #00d7ff\">None</span>, <span style=\"color: #00af00; text-decoration-color: #00af00\">60</span>)                  │               <span style=\"color: #00af00; text-decoration-color: #00af00\">0</span> │\n",
       "├──────────────────────────────────────┼─────────────────────────────┼─────────────────┤\n",
       "│ dense_5 (<span style=\"color: #0087ff; text-decoration-color: #0087ff\">Dense</span>)                      │ (<span style=\"color: #00d7ff; text-decoration-color: #00d7ff\">None</span>, <span style=\"color: #00af00; text-decoration-color: #00af00\">12</span>)                  │             <span style=\"color: #00af00; text-decoration-color: #00af00\">732</span> │\n",
       "└──────────────────────────────────────┴─────────────────────────────┴─────────────────┘\n",
       "</pre>\n"
      ],
      "text/plain": [
       "┏━━━━━━━━━━━━━━━━━━━━━━━━━━━━━━━━━━━━━━┳━━━━━━━━━━━━━━━━━━━━━━━━━━━━━┳━━━━━━━━━━━━━━━━━┓\n",
       "┃\u001b[1m \u001b[0m\u001b[1mLayer (type)                        \u001b[0m\u001b[1m \u001b[0m┃\u001b[1m \u001b[0m\u001b[1mOutput Shape               \u001b[0m\u001b[1m \u001b[0m┃\u001b[1m \u001b[0m\u001b[1m        Param #\u001b[0m\u001b[1m \u001b[0m┃\n",
       "┡━━━━━━━━━━━━━━━━━━━━━━━━━━━━━━━━━━━━━━╇━━━━━━━━━━━━━━━━━━━━━━━━━━━━━╇━━━━━━━━━━━━━━━━━┩\n",
       "│ conv2d_3 (\u001b[38;5;33mConv2D\u001b[0m)                    │ (\u001b[38;5;45mNone\u001b[0m, \u001b[38;5;34m100\u001b[0m, \u001b[38;5;34m120\u001b[0m, \u001b[38;5;34m32\u001b[0m)        │           \u001b[38;5;34m2,912\u001b[0m │\n",
       "├──────────────────────────────────────┼─────────────────────────────┼─────────────────┤\n",
       "│ max_pooling2d_3 (\u001b[38;5;33mMaxPooling2D\u001b[0m)       │ (\u001b[38;5;45mNone\u001b[0m, \u001b[38;5;34m50\u001b[0m, \u001b[38;5;34m60\u001b[0m, \u001b[38;5;34m32\u001b[0m)          │               \u001b[38;5;34m0\u001b[0m │\n",
       "├──────────────────────────────────────┼─────────────────────────────┼─────────────────┤\n",
       "│ conv2d_4 (\u001b[38;5;33mConv2D\u001b[0m)                    │ (\u001b[38;5;45mNone\u001b[0m, \u001b[38;5;34m50\u001b[0m, \u001b[38;5;34m60\u001b[0m, \u001b[38;5;34m32\u001b[0m)          │          \u001b[38;5;34m30,752\u001b[0m │\n",
       "├──────────────────────────────────────┼─────────────────────────────┼─────────────────┤\n",
       "│ max_pooling2d_4 (\u001b[38;5;33mMaxPooling2D\u001b[0m)       │ (\u001b[38;5;45mNone\u001b[0m, \u001b[38;5;34m25\u001b[0m, \u001b[38;5;34m30\u001b[0m, \u001b[38;5;34m32\u001b[0m)          │               \u001b[38;5;34m0\u001b[0m │\n",
       "├──────────────────────────────────────┼─────────────────────────────┼─────────────────┤\n",
       "│ conv2d_5 (\u001b[38;5;33mConv2D\u001b[0m)                    │ (\u001b[38;5;45mNone\u001b[0m, \u001b[38;5;34m25\u001b[0m, \u001b[38;5;34m30\u001b[0m, \u001b[38;5;34m32\u001b[0m)          │          \u001b[38;5;34m30,752\u001b[0m │\n",
       "├──────────────────────────────────────┼─────────────────────────────┼─────────────────┤\n",
       "│ max_pooling2d_5 (\u001b[38;5;33mMaxPooling2D\u001b[0m)       │ (\u001b[38;5;45mNone\u001b[0m, \u001b[38;5;34m12\u001b[0m, \u001b[38;5;34m15\u001b[0m, \u001b[38;5;34m32\u001b[0m)          │               \u001b[38;5;34m0\u001b[0m │\n",
       "├──────────────────────────────────────┼─────────────────────────────┼─────────────────┤\n",
       "│ flatten_1 (\u001b[38;5;33mFlatten\u001b[0m)                  │ (\u001b[38;5;45mNone\u001b[0m, \u001b[38;5;34m5760\u001b[0m)                │               \u001b[38;5;34m0\u001b[0m │\n",
       "├──────────────────────────────────────┼─────────────────────────────┼─────────────────┤\n",
       "│ dense_3 (\u001b[38;5;33mDense\u001b[0m)                      │ (\u001b[38;5;45mNone\u001b[0m, \u001b[38;5;34m60\u001b[0m)                  │         \u001b[38;5;34m345,660\u001b[0m │\n",
       "├──────────────────────────────────────┼─────────────────────────────┼─────────────────┤\n",
       "│ dropout_2 (\u001b[38;5;33mDropout\u001b[0m)                  │ (\u001b[38;5;45mNone\u001b[0m, \u001b[38;5;34m60\u001b[0m)                  │               \u001b[38;5;34m0\u001b[0m │\n",
       "├──────────────────────────────────────┼─────────────────────────────┼─────────────────┤\n",
       "│ dense_4 (\u001b[38;5;33mDense\u001b[0m)                      │ (\u001b[38;5;45mNone\u001b[0m, \u001b[38;5;34m60\u001b[0m)                  │           \u001b[38;5;34m3,660\u001b[0m │\n",
       "├──────────────────────────────────────┼─────────────────────────────┼─────────────────┤\n",
       "│ dropout_3 (\u001b[38;5;33mDropout\u001b[0m)                  │ (\u001b[38;5;45mNone\u001b[0m, \u001b[38;5;34m60\u001b[0m)                  │               \u001b[38;5;34m0\u001b[0m │\n",
       "├──────────────────────────────────────┼─────────────────────────────┼─────────────────┤\n",
       "│ dense_5 (\u001b[38;5;33mDense\u001b[0m)                      │ (\u001b[38;5;45mNone\u001b[0m, \u001b[38;5;34m12\u001b[0m)                  │             \u001b[38;5;34m732\u001b[0m │\n",
       "└──────────────────────────────────────┴─────────────────────────────┴─────────────────┘\n"
      ]
     },
     "metadata": {},
     "output_type": "display_data"
    },
    {
     "data": {
      "text/html": [
       "<pre style=\"white-space:pre;overflow-x:auto;line-height:normal;font-family:Menlo,'DejaVu Sans Mono',consolas,'Courier New',monospace\"><span style=\"font-weight: bold\"> Total params: </span><span style=\"color: #00af00; text-decoration-color: #00af00\">414,468</span> (1.58 MB)\n",
       "</pre>\n"
      ],
      "text/plain": [
       "\u001b[1m Total params: \u001b[0m\u001b[38;5;34m414,468\u001b[0m (1.58 MB)\n"
      ]
     },
     "metadata": {},
     "output_type": "display_data"
    },
    {
     "data": {
      "text/html": [
       "<pre style=\"white-space:pre;overflow-x:auto;line-height:normal;font-family:Menlo,'DejaVu Sans Mono',consolas,'Courier New',monospace\"><span style=\"font-weight: bold\"> Trainable params: </span><span style=\"color: #00af00; text-decoration-color: #00af00\">414,468</span> (1.58 MB)\n",
       "</pre>\n"
      ],
      "text/plain": [
       "\u001b[1m Trainable params: \u001b[0m\u001b[38;5;34m414,468\u001b[0m (1.58 MB)\n"
      ]
     },
     "metadata": {},
     "output_type": "display_data"
    },
    {
     "data": {
      "text/html": [
       "<pre style=\"white-space:pre;overflow-x:auto;line-height:normal;font-family:Menlo,'DejaVu Sans Mono',consolas,'Courier New',monospace\"><span style=\"font-weight: bold\"> Non-trainable params: </span><span style=\"color: #00af00; text-decoration-color: #00af00\">0</span> (0.00 B)\n",
       "</pre>\n"
      ],
      "text/plain": [
       "\u001b[1m Non-trainable params: \u001b[0m\u001b[38;5;34m0\u001b[0m (0.00 B)\n"
      ]
     },
     "metadata": {},
     "output_type": "display_data"
    }
   ],
   "source": [
    "model = Sequential([\n",
    "    Conv2D(32, (5,6), activation='tanh',padding=\"same\", input_shape=sst_train.shape[1:]),\n",
    "    MaxPooling2D((2, 2)),\n",
    "    \n",
    "    Conv2D(32, (5, 6), activation='tanh', padding=\"same\"),\n",
    "    MaxPooling2D((2, 2)),\n",
    "\n",
    "    Conv2D(32, (5, 6), activation='tanh', padding=\"same\"),\n",
    "    MaxPooling2D((2, 2)),\n",
    "    \n",
    "    Flatten(),\n",
    "\n",
    "    Dense(60),\n",
    "    Dropout(0.4),\n",
    "\n",
    "    \n",
    "    Dense(60, activation='tanh'),\n",
    "    Dropout(0.4), \n",
    "    \n",
    "    Dense(12)\n",
    "])\n",
    "\n",
    "model.summary()"
   ]
  },
  {
   "cell_type": "markdown",
   "id": "6438d6f0-1460-427a-b0b4-0cdccc819f9d",
   "metadata": {},
   "source": [
    "# Entrenamiento del modelo"
   ]
  },
  {
   "cell_type": "code",
   "execution_count": 30,
   "id": "a27b77b0-536d-4423-beb0-97cc80d0f603",
   "metadata": {
    "scrolled": true
   },
   "outputs": [
    {
     "name": "stdout",
     "output_type": "stream",
     "text": [
      "Epoch 1/10\n",
      "\u001b[1m7/7\u001b[0m \u001b[32m━━━━━━━━━━━━━━━━━━━━\u001b[0m\u001b[37m\u001b[0m \u001b[1m1s\u001b[0m 153ms/step - loss: 0.8772 - val_loss: 3.3394\n",
      "Epoch 2/10\n",
      "\u001b[1m7/7\u001b[0m \u001b[32m━━━━━━━━━━━━━━━━━━━━\u001b[0m\u001b[37m\u001b[0m \u001b[1m1s\u001b[0m 140ms/step - loss: 2.4092 - val_loss: 0.9118\n",
      "Epoch 3/10\n",
      "\u001b[1m7/7\u001b[0m \u001b[32m━━━━━━━━━━━━━━━━━━━━\u001b[0m\u001b[37m\u001b[0m \u001b[1m1s\u001b[0m 137ms/step - loss: 0.8421 - val_loss: 0.9122\n",
      "Epoch 4/10\n",
      "\u001b[1m7/7\u001b[0m \u001b[32m━━━━━━━━━━━━━━━━━━━━\u001b[0m\u001b[37m\u001b[0m \u001b[1m1s\u001b[0m 137ms/step - loss: 0.6129 - val_loss: 0.8217\n",
      "Epoch 5/10\n",
      "\u001b[1m7/7\u001b[0m \u001b[32m━━━━━━━━━━━━━━━━━━━━\u001b[0m\u001b[37m\u001b[0m \u001b[1m1s\u001b[0m 140ms/step - loss: 0.5598 - val_loss: 0.8446\n",
      "Epoch 6/10\n",
      "\u001b[1m7/7\u001b[0m \u001b[32m━━━━━━━━━━━━━━━━━━━━\u001b[0m\u001b[37m\u001b[0m \u001b[1m1s\u001b[0m 139ms/step - loss: 0.6005 - val_loss: 0.8956\n",
      "Epoch 7/10\n",
      "\u001b[1m7/7\u001b[0m \u001b[32m━━━━━━━━━━━━━━━━━━━━\u001b[0m\u001b[37m\u001b[0m \u001b[1m1s\u001b[0m 138ms/step - loss: 0.5709 - val_loss: 0.8168\n",
      "Epoch 8/10\n",
      "\u001b[1m7/7\u001b[0m \u001b[32m━━━━━━━━━━━━━━━━━━━━\u001b[0m\u001b[37m\u001b[0m \u001b[1m1s\u001b[0m 139ms/step - loss: 0.5409 - val_loss: 0.8278\n",
      "Epoch 9/10\n",
      "\u001b[1m7/7\u001b[0m \u001b[32m━━━━━━━━━━━━━━━━━━━━\u001b[0m\u001b[37m\u001b[0m \u001b[1m1s\u001b[0m 137ms/step - loss: 0.5298 - val_loss: 0.8772\n",
      "Epoch 10/10\n",
      "\u001b[1m7/7\u001b[0m \u001b[32m━━━━━━━━━━━━━━━━━━━━\u001b[0m\u001b[37m\u001b[0m \u001b[1m1s\u001b[0m 136ms/step - loss: 0.5408 - val_loss: 0.7872\n",
      "\n",
      " ==================================================================================================== \n",
      "\n"
     ]
    }
   ],
   "source": [
    "history_list = {\"loss\":[],\"val_loss\":[]}\n",
    "\n",
    "model.compile(optimizer=SGD(), loss=\"mse\")\n",
    "\n",
    "for i in range(1):\n",
    "    input_train, y_train = shuffle(sst_train, nino_train)   \n",
    "    history = model.fit(input_train, y_train,validation_data=(sst_valid, nino_valid), epochs=10, batch_size=100)\n",
    "    history_list[\"loss\"] += history.history['loss']\n",
    "    history_list[\"val_loss\"] += history.history['val_loss']\n",
    "    \n",
    "    print(\"\\n\",\"=\"*100,\"\\n\")"
   ]
  },
  {
   "cell_type": "markdown",
   "id": "ff66ad0e-2e9b-445c-b732-c46efeba4c0b",
   "metadata": {},
   "source": [
    "# Resultado final( graficamente xd)"
   ]
  },
  {
   "cell_type": "code",
   "execution_count": 31,
   "id": "082ebcb0-38f9-469c-a8a1-251a3e973f28",
   "metadata": {},
   "outputs": [
    {
     "name": "stdout",
     "output_type": "stream",
     "text": [
      "\u001b[1m3/3\u001b[0m \u001b[32m━━━━━━━━━━━━━━━━━━━━\u001b[0m\u001b[37m\u001b[0m \u001b[1m0s\u001b[0m 31ms/step\n"
     ]
    },
    {
     "data": {
      "text/plain": [
       "((78, 12), (78, 12))"
      ]
     },
     "execution_count": 31,
     "metadata": {},
     "output_type": "execute_result"
    }
   ],
   "source": [
    "pre_nino = model.predict(sst_valid )\n",
    "pre_nino.shape, nino_valid.shape"
   ]
  },
  {
   "cell_type": "code",
   "execution_count": 32,
   "id": "7cd8109a-c3ee-4d99-9c45-312b14f85efb",
   "metadata": {},
   "outputs": [
    {
     "data": {
      "text/plain": [
       "<matplotlib.lines.Line2D at 0x1aa40048bc0>"
      ]
     },
     "execution_count": 32,
     "metadata": {},
     "output_type": "execute_result"
    },
    {
     "data": {
      "image/png": "[encoded data removed]",
      "text/plain": [
       "<Figure size 640x480 with 1 Axes>"
      ]
     },
     "metadata": {},
     "output_type": "display_data"
    }
   ],
   "source": [
    "import scipy.stats as sts\n",
    "import matplotlib.pyplot as plt\n",
    "\n",
    "corr_ls = []\n",
    "for i in range(12):\n",
    "    corr, _ = sts.pearsonr(pre_nino[:,i], nino_valid[:,i])\n",
    "    corr_ls.append(corr)\n",
    "plt.plot(np.arange(1, 13), corr_ls, \"o-\", color=\"blue\")\n",
    "plt.xlabel(\"Carga por mes\")\n",
    "plt.ylabel(\"Correlacion\")\n",
    "plt.axhline(0.7, color=\"g\", linestyle=\":\")\n",
    "\n",
    "plt.axhline(0.5, color=\"k\", linestyle=\":\")"
   ]
  },
  {
   "cell_type": "code",
   "execution_count": 33,
   "id": "5f85b90e-e513-4e4b-9b93-801c949eb8b0",
   "metadata": {},
   "outputs": [
    {
     "data": {
      "image/png": "[encoded data removed]",
      "text/plain": [
       "<Figure size 640x480 with 1 Axes>"
      ]
     },
     "metadata": {},
     "output_type": "display_data"
    },
    {
     "name": "stdout",
     "output_type": "stream",
     "text": [
      "[ 1.05  0.21 -0.24 -0.32 -0.34 -0.81 -0.81 -1.2  -1.42 -1.12 -0.97 -1.35\n",
      " -1.03 -0.75 -0.72 -0.4  -0.27 -0.08  0.16  0.81  1.05  0.83  0.52  0.12\n",
      "  0.3   0.2  -0.34 -0.69 -0.76 -0.71 -0.74 -0.11 -0.04 -0.37  0.02 -0.06\n",
      "  0.28 -0.14 -0.7  -1.28 -1.05 -1.22 -0.6  -0.58 -0.6  -0.88 -0.86 -0.75\n",
      " -0.94 -0.79 -0.37 -0.21 -0.29 -0.7  -0.87 -1.12 -1.69 -1.11 -1.58 -0.76\n",
      " -1.4  -1.66 -1.49 -1.2  -0.6  -1.02 -1.78 -1.13 -0.46 -0.56  0.48  1.49\n",
      "  2.62  2.22  2.5   2.98  3.29  2.42]\n",
      "[ 0.03523774 -0.10817485 -0.21875256 -0.40337557 -0.55126446 -0.79245156\n",
      " -0.9251675  -0.79416984 -1.1033169  -1.0876348  -0.9704211  -0.79786634\n",
      " -0.8010256  -0.9656037  -0.5130388  -0.08452696  0.13900216 -0.06921044\n",
      " -0.13023365  0.44444573  0.54309857  0.18655957 -0.03465188 -0.06817073\n",
      "  0.05980317 -0.09492333 -0.21541777 -0.34558427 -0.38753206 -0.6691356\n",
      " -0.57423985 -0.06152748  0.01929012 -0.2666329  -0.3368798  -0.4136206\n",
      " -0.33220965 -0.25411245 -0.82153296 -1.0595555  -0.8446283  -1.115171\n",
      " -1.1489571  -0.700625   -0.73058385 -0.5495382  -0.29399866 -0.3812853\n",
      " -0.4200852  -0.9511431  -0.9216612  -0.46660373 -0.5947379  -0.59134924\n",
      " -0.55534476 -1.0929556  -0.9486254  -0.8304727  -0.99344915 -0.8109734\n",
      " -0.7701358  -1.29344    -1.3853905  -0.90849304 -0.5796175  -0.6823952\n",
      " -0.9868913  -1.0690678  -0.92277527 -0.6186265  -0.31697616  0.1445838\n",
      "  0.27053082  0.2565937   0.53605217  1.0310953   1.2537386   1.0652119 ]\n"
     ]
    }
   ],
   "source": [
    "salto_mes = 1\n",
    "mes_mas_1 = 0\n",
    "# Graficar ninno34_val\n",
    "plt.plot(nino_valid[::salto_mes, mes_mas_1]  * nino_std + nino_mean, label=\"Observado\")\n",
    "\n",
    "# Graficar pre_nino\n",
    "plt.plot(pre_nino[::salto_mes, mes_mas_1]  * nino_std + nino_mean, label=\"Predicción\")\n",
    "\n",
    "# Añadir leyenda\n",
    "plt.legend()\n",
    "\n",
    "# Mostrar el gráfico\n",
    "plt.show()\n",
    "\n",
    "print(nino_valid[::salto_mes, mes_mas_1] * nino_std + nino_mean)\n",
    "print(pre_nino[::salto_mes, mes_mas_1]  * nino_std + nino_mean)"
   ]
  },
  {
   "cell_type": "code",
   "execution_count": 34,
   "id": "66dd8162-7112-4047-af36-e7000743ab37",
   "metadata": {},
   "outputs": [
    {
     "name": "stdout",
     "output_type": "stream",
     "text": [
      "\u001b[1m1/1\u001b[0m \u001b[32m━━━━━━━━━━━━━━━━━━━━\u001b[0m\u001b[37m\u001b[0m \u001b[1m0s\u001b[0m 15ms/step\n"
     ]
    },
    {
     "data": {
      "text/plain": [
       "<matplotlib.legend.Legend at 0x1aa41e983b0>"
      ]
     },
     "execution_count": 34,
     "metadata": {},
     "output_type": "execute_result"
    },
    {
     "data": {
      "image/png": "[encoded data removed]",
      "text/plain": [
       "<Figure size 640x480 with 1 Axes>"
      ]
     },
     "metadata": {},
     "output_type": "display_data"
    }
   ],
   "source": [
    "import pandas as pd\n",
    "index_num = 1\n",
    "pre_nino = model.predict(sst_valid[[index_num]] )\n",
    "pre_nino = pre_nino  * nino_std + nino_mean\n",
    "xd = nino_valid[index_num]\n",
    "xd = xd  * nino_std + nino_mean\n",
    "plt.rc('font', family='Times New Roman')\n",
    "time0 = pd.date_range(\"1988-04-01\",\"1989-03-15\",freq=\"MS\")\n",
    "\n",
    "plt.plot(time0,pre_nino[0],\"--\",color=\"red\",label=\"Predicion\")\n",
    "\n",
    "\n",
    "plt.plot(time0,xd,\"o-\",color=\"blue\",label=\"Valores Observados\")\n",
    "\n",
    "\n",
    "plt.legend()"
   ]
  },
  {
   "cell_type": "code",
   "execution_count": 58,
   "id": "b4c940ab-1123-49df-802a-4bfe30bf0919",
   "metadata": {},
   "outputs": [
    {
     "name": "stdout",
     "output_type": "stream",
     "text": [
      "\u001b[1m1/1\u001b[0m \u001b[32m━━━━━━━━━━━━━━━━━━━━\u001b[0m\u001b[37m\u001b[0m \u001b[1m0s\u001b[0m 17ms/step\n"
     ]
    },
    {
     "data": {
      "text/plain": [
       "<matplotlib.legend.Legend at 0x19c8dac0c20>"
      ]
     },
     "execution_count": 58,
     "metadata": {},
     "output_type": "execute_result"
    },
    {
     "data": {
      "image/png": "[encoded data removed]",
      "text/plain": [
       "<Figure size 640x480 with 1 Axes>"
      ]
     },
     "metadata": {},
     "output_type": "display_data"
    }
   ],
   "source": [
    "import pandas as pd\n",
    "index_num = 77\n",
    "pre_nino = model.predict(sst_valid[[index_num]] )\n",
    "pre_nino = pre_nino  * nino_std + nino_mean\n",
    "xd = nino_valid[index_num]\n",
    "xd = xd  * nino_std + nino_mean\n",
    "plt.rc('font', family='Times New Roman')\n",
    "time0 = pd.date_range(\"1988-04-01\",\"1989-03-15\",freq=\"MS\")\n",
    "\n",
    "plt.plot(time0,pre_nino[0],\"--\",color=\"red\",label=\"Predicion\")\n",
    "\n",
    "\n",
    "plt.plot(time0,xd,\"o-\",color=\"blue\",label=\"Valores Observados\")\n",
    "\n",
    "\n",
    "plt.legend()"
   ]
  },
  {
   "cell_type": "markdown",
   "id": "3316a34d-a494-48d8-9475-cd07981321f6",
   "metadata": {},
   "source": [
    "# Liberar memoria"
   ]
  },
  {
   "cell_type": "code",
   "execution_count": null,
   "id": "16268e7e-00c7-4f4d-af8f-2bffb5e4e91e",
   "metadata": {},
   "outputs": [],
   "source": [
    "import gc\n",
    "gc.collect()\n",
    "exit()\n"
   ]
  }
 ],
 "metadata": {
  "kernelspec": {
   "display_name": "Python 3 (ipykernel)",
   "language": "python",
   "name": "python3"
  },
  "language_info": {
   "codemirror_mode": {
    "name": "ipython",
    "version": 3
   },
   "file_extension": ".py",
   "mimetype": "text/x-python",
   "name": "python",
   "nbconvert_exporter": "python",
   "pygments_lexer": "ipython3",
   "version": "3.12.3"
  }
 },
 "nbformat": 4,
 "nbformat_minor": 5
}
